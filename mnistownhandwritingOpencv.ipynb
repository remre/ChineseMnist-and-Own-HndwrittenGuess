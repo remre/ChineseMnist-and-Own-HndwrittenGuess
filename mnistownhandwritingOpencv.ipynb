{
  "nbformat": 4,
  "nbformat_minor": 0,
  "metadata": {
    "colab": {
      "name": "mnistownhandwritingOpencv.ipynb",
      "provenance": [],
      "collapsed_sections": [],
      "mount_file_id": "17mdCiG7qOHb-y075DR9R233uOmY1htUX",
      "authorship_tag": "ABX9TyMcj0FX08xGNFxhP5vqrGel",
      "include_colab_link": true
    },
    "kernelspec": {
      "name": "python3",
      "display_name": "Python 3"
    },
    "language_info": {
      "name": "python"
    }
  },
  "cells": [
    {
      "cell_type": "markdown",
      "metadata": {
        "id": "view-in-github",
        "colab_type": "text"
      },
      "source": [
        "<a href=\"https://colab.research.google.com/github/remre/ChineseMnist-and-Own-HndwrittenGuess/blob/main/mnistownhandwritingOpencv.ipynb\" target=\"_parent\"><img src=\"https://colab.research.google.com/assets/colab-badge.svg\" alt=\"Open In Colab\"/></a>"
      ]
    },
    {
      "cell_type": "code",
      "metadata": {
        "id": "-jOcqxexOAsb"
      },
      "source": [
        "import cv2\n",
        "import matplotlib.pyplot as plt\n",
        "import numpy as np\n",
        "from google.colab.patches import cv2_imshow"
      ],
      "execution_count": 1,
      "outputs": []
    },
    {
      "cell_type": "code",
      "metadata": {
        "id": "zbD2MT7e5Ujo"
      },
      "source": [
        "eight = cv2.imread('/content/drive/MyDrive/dataAI/mnisthandwritten/eight.png')\n",
        "three = cv2.imread('/content/drive/MyDrive/dataAI/mnisthandwritten/three.png')\n",
        "four = cv2.imread('/content/drive/MyDrive/dataAI/mnisthandwritten/four.png')\n",
        "five = cv2.imread('/content/drive/MyDrive/dataAI/mnisthandwritten/five.png')\n",
        "six = cv2.imread('/content/drive/MyDrive/dataAI/mnisthandwritten/six.png')\n",
        "seven = cv2.imread('/content/drive/MyDrive/dataAI/mnisthandwritten/seven.png')\n",
        "nine = cv2.imread('/content/drive/MyDrive/dataAI/mnisthandwritten/nine.png')\n",
        "one = cv2.imread('/content/drive/MyDrive/dataAI/mnisthandwritten/one.png')\n",
        "two = cv2.imread('/content/drive/MyDrive/dataAI/mnisthandwritten/two.png')\n"
      ],
      "execution_count": 2,
      "outputs": []
    },
    {
      "cell_type": "code",
      "metadata": {
        "colab": {
          "base_uri": "https://localhost:8080/",
          "height": 287
        },
        "id": "5M3tujuB-MCT",
        "outputId": "3f1f46bc-8331-4f72-9089-8246c60f4676"
      },
      "source": [
        "plt.imshow(five)"
      ],
      "execution_count": 3,
      "outputs": [
        {
          "output_type": "execute_result",
          "data": {
            "text/plain": [
              "<matplotlib.image.AxesImage at 0x7f4a7775ee90>"
            ]
          },
          "metadata": {},
          "execution_count": 3
        },
        {
          "output_type": "display_data",
          "data": {
            "text/plain": [
              "<Figure size 432x288 with 1 Axes>"
            ],
            "image/png": "[encoded data removed]"
          },
          "metadata": {
            "needs_background": "light"
          }
        }
      ]
    },
    {
      "cell_type": "code",
      "metadata": {
        "colab": {
          "base_uri": "https://localhost:8080/",
          "height": 287
        },
        "id": "SaWMN5ASQxM-",
        "outputId": "dc9fa017-16c7-4526-f6c0-192a9dc161f6"
      },
      "source": [
        "fourone = four.copy()\n",
        "kernel = np.ones((7,7))\n",
        "fourone = cv2.bitwise_not(fourone)\n",
        "fourone = cv2.cvtColor(fourone, cv2.COLOR_BGR2RGB)\n",
        "closing = cv2.morphologyEx(fourone,cv2.MORPH_DILATE,kernel,)\n",
        "plt.imshow(closing)"
      ],
      "execution_count": 4,
      "outputs": [
        {
          "output_type": "execute_result",
          "data": {
            "text/plain": [
              "<matplotlib.image.AxesImage at 0x7f4a771fead0>"
            ]
          },
          "metadata": {},
          "execution_count": 4
        },
        {
          "output_type": "display_data",
          "data": {
            "text/plain": [
              "<Figure size 432x288 with 1 Axes>"
            ],
            "image/png": "[encoded data removed]"
          },
          "metadata": {
            "needs_background": "light"
          }
        }
      ]
    },
    {
      "cell_type": "code",
      "metadata": {
        "id": "2ypMxqPU5UhR"
      },
      "source": [
        "def mnist(img):\n",
        "    img1 = img.copy()\n",
        "    #_, img = cv2.threshold(img, 150, 255, cv2.THRESH_TRUNC)\n",
        "    img1 = cv2.bitwise_not(img1)\n",
        "    \n",
        "    kernel = np.ones((7,7), np.uint8)\n",
        "    img1  = cv2.cvtColor(img1,cv2.COLOR_BGR2RGB)\n",
        "    img1  = cv2.cvtColor(img1,cv2.COLOR_RGB2GRAY)\n",
        "    img1 = cv2.dilate(img1, kernel) # two thicken the hand writing\n",
        "    #closing = cv2.morphologyEx(img,cv2.MORPH_CLOSE,kernel,)\n",
        "    #_, img = cv2.threshold(img, 127, 255, cv2.THRESH_BINARY)\n",
        "    \n",
        "    #img = cv2.GaussianBlur(img, (5,5),0) # no need it i guess\n",
        "    closing = cv2.morphologyEx(img1,cv2.MORPH_CLOSE,kernel,)\n",
        "    img1 = cv2.resize(closing, (28, 28), interpolation=cv2.INTER_LINEAR) # the size of mnist is 28x28\n",
        "    \n",
        "    return img1"
      ],
      "execution_count": 5,
      "outputs": []
    },
    {
      "cell_type": "code",
      "metadata": {
        "colab": {
          "base_uri": "https://localhost:8080/",
          "height": 283
        },
        "id": "PwKD_yZo-IYg",
        "outputId": "b6702103-aeaf-4d21-9c49-45e237f10846"
      },
      "source": [
        "plt.imshow(mnist(three))"
      ],
      "execution_count": 6,
      "outputs": [
        {
          "output_type": "execute_result",
          "data": {
            "text/plain": [
              "<matplotlib.image.AxesImage at 0x7f4a77179bd0>"
            ]
          },
          "metadata": {},
          "execution_count": 6
        },
        {
          "output_type": "display_data",
          "data": {
            "text/plain": [
              "<Figure size 432x288 with 1 Axes>"
            ],
            "image/png": "[encoded data removed]"
          },
          "metadata": {
            "needs_background": "light"
          }
        }
      ]
    },
    {
      "cell_type": "code",
      "metadata": {
        "colab": {
          "base_uri": "https://localhost:8080/"
        },
        "id": "g8jXzzPYD3Mo",
        "outputId": "83874572-157b-4a32-b577-b6f7213a67a9"
      },
      "source": [
        "mnist(three).shape"
      ],
      "execution_count": 7,
      "outputs": [
        {
          "output_type": "execute_result",
          "data": {
            "text/plain": [
              "(28, 28)"
            ]
          },
          "metadata": {},
          "execution_count": 7
        }
      ]
    },
    {
      "cell_type": "code",
      "metadata": {
        "colab": {
          "base_uri": "https://localhost:8080/",
          "height": 283
        },
        "id": "jD9qhb0lQdWw",
        "outputId": "2da7f442-f947-4221-c725-96f07148f0f5"
      },
      "source": [
        "threeone = three.copy()\n",
        "img = cv2.bitwise_not(threeone)\n",
        "\n",
        "#img  = cv2.cvtColor(img,cv2.COLOR_BGR2RGB)\n",
        "#img = cv2.GaussianBlur(img, (5,5),0)\n",
        "img = cv2.dilate(img, kernel)\n",
        "img = cv2.resize(img, (28, 28))\n",
        "plt.imshow(img)"
      ],
      "execution_count": 8,
      "outputs": [
        {
          "output_type": "execute_result",
          "data": {
            "text/plain": [
              "<matplotlib.image.AxesImage at 0x7f4a770ecdd0>"
            ]
          },
          "metadata": {},
          "execution_count": 8
        },
        {
          "output_type": "display_data",
          "data": {
            "text/plain": [
              "<Figure size 432x288 with 1 Axes>"
            ],
            "image/png": "[encoded data removed]"
          },
          "metadata": {
            "needs_background": "light"
          }
        }
      ]
    },
    {
      "cell_type": "code",
      "metadata": {
        "id": "s8MNQQTeAk5A"
      },
      "source": [
        "from collections import OrderedDict\n",
        "\n",
        "import numpy as np\n",
        "import matplotlib.pyplot as plt\n",
        "import time\n",
        "import pandas as pd\n",
        "\n",
        "\n",
        "import torch\n",
        "from torch import nn\n",
        "from torch.autograd import Variable\n",
        "from torch import optim\n",
        "import torch.nn.functional as F\n",
        "\n",
        "from torchvision import datasets, transforms\n",
        "from torch.utils.data import  DataLoader\n"
      ],
      "execution_count": 9,
      "outputs": []
    },
    {
      "cell_type": "code",
      "metadata": {
        "id": "yMeZxs_8usVD"
      },
      "source": [
        "from torchsummary import summary"
      ],
      "execution_count": 10,
      "outputs": []
    },
    {
      "cell_type": "code",
      "metadata": {
        "id": "rYktAKve03nn"
      },
      "source": [
        "# Define a transform to normalize the data (Preprocessing)\n",
        "transform = transforms.Compose([transforms.ToTensor(), transforms.Normalize((0.5), (0.5)) ])\n",
        "\n",
        "# Download and load the training data\n",
        "trainset    = datasets.MNIST('MNIST_data/', download=True, train=True, transform=transform)\n",
        "trainloader = torch.utils.data.DataLoader(trainset, batch_size=64, shuffle=True)\n",
        "\n",
        "# Download and load the test data\n",
        "#testset    = datasets.MNIST('MNIST_data/', download=True, train=False, transform=transform)\n",
        "#testloader = torch.utils.data.DataLoader(testset, batch_size=64, shuffle=True)"
      ],
      "execution_count": 11,
      "outputs": []
    },
    {
      "cell_type": "code",
      "source": [
        "class Net(nn.Module):\n",
        "    def __init__(self):\n",
        "        super(Net,self).__init__()\n",
        "\n",
        "        self.layer1 = nn.Sequential(\n",
        "            nn.Conv2d(1,16,5),\n",
        "            nn.BatchNorm2d(16),\n",
        "            nn.ReLU(inplace=True),\n",
        "            nn.MaxPool2d(2))\n",
        "        self.layer2 = nn.Sequential(\n",
        "            nn.Conv2d(16,32,5),\n",
        "            #nn.BatchNorm2d(32),\n",
        "            nn.ReLU(inplace=True),\n",
        "            nn.MaxPool2d(2))\n",
        "\n",
        "        self.fc = nn.Sequential(\n",
        "            nn.Linear(32 *4 *4,128),\n",
        "            nn.ReLU(inplace =True),\n",
        "            nn.Linear(128,64),\n",
        "            nn.ReLU(inplace=True),\n",
        "            nn.Linear(64,32),\n",
        "            nn.Linear(32,10))\n",
        "    \n",
        "    def forward(self,x):\n",
        "        x = self.layer1(x)\n",
        "        x = self.layer2(x)\n",
        "        #x = self.layer3(x)\n",
        "        x = x.view(x.size(0), -1)\n",
        "        x = self.fc(x)\n",
        "        #x = F.softmax(x, dim=1)\n",
        "\n",
        "        return x\n",
        "\n",
        "modell = Net()"
      ],
      "metadata": {
        "id": "Rm7lZLn8Yvf2"
      },
      "execution_count": 17,
      "outputs": []
    },
    {
      "cell_type": "code",
      "source": [
        "criterion = nn.CrossEntropyLoss()\n",
        "optimizer = optim.SGD(modell.parameters(), lr=0.01)\n",
        "#if torch.cuda.is_available():\n",
        " #   model = model.cuda()\n",
        " #   criterion = criterion.cuda()\n",
        "print(modell)"
      ],
      "metadata": {
        "colab": {
          "base_uri": "https://localhost:8080/"
        },
        "id": "I2xA4EFRY51E",
        "outputId": "758ca309-968d-462b-e861-fb82a81421cb"
      },
      "execution_count": 15,
      "outputs": [
        {
          "output_type": "stream",
          "name": "stdout",
          "text": [
            "Net(\n",
            "  (layer1): Sequential(\n",
            "    (0): Conv2d(1, 16, kernel_size=(3, 3), stride=(1, 1))\n",
            "    (1): BatchNorm2d(16, eps=1e-05, momentum=0.1, affine=True, track_running_stats=True)\n",
            "    (2): ReLU(inplace=True)\n",
            "    (3): MaxPool2d(kernel_size=2, stride=2, padding=0, dilation=1, ceil_mode=False)\n",
            "  )\n",
            "  (layer2): Sequential(\n",
            "    (0): Conv2d(16, 32, kernel_size=(3, 3), stride=(1, 1))\n",
            "    (1): ReLU(inplace=True)\n",
            "    (2): MaxPool2d(kernel_size=2, stride=2, padding=0, dilation=1, ceil_mode=False)\n",
            "  )\n",
            "  (fc): Sequential(\n",
            "    (0): Linear(in_features=512, out_features=128, bias=True)\n",
            "    (1): ReLU(inplace=True)\n",
            "    (2): Linear(in_features=128, out_features=64, bias=True)\n",
            "    (3): ReLU(inplace=True)\n",
            "    (4): Linear(in_features=64, out_features=32, bias=True)\n",
            "    (5): Linear(in_features=32, out_features=10, bias=True)\n",
            "  )\n",
            ")\n"
          ]
        }
      ]
    },
    {
      "cell_type": "code",
      "source": [
        "train_loss = []\n",
        "val_loss = []\n",
        "\n",
        "epochs = 5\n",
        "print_every = 50\n",
        "\n",
        "optimizer = optim.SGD(modell.parameters(), lr=0.1)\n",
        "for e in range(epochs):\n",
        "    running_loss = 0\n",
        "    total = 0\n",
        "    correct = 0\n",
        "    print(f\"Epoch: {e+1}/{epochs}\")\n",
        "\n",
        "    modell.train()\n",
        "    for i, (images, labels) in enumerate(iter(trainloader)):\n",
        "\n",
        "        # Flatten MNIST images into a 784 long vector\n",
        "        images.resize_(images.size()[0], 1,28,28)\n",
        "        \n",
        "        optimizer.zero_grad()\n",
        "        \n",
        "        output = modell.forward(images)   # 1) Forward pass\n",
        "        loss = criterion(output, labels) # 2) Compute loss\n",
        "        loss.backward()                  # 3) Backward pass\n",
        "        optimizer.step()                 # 4) Update model\n",
        "        \n",
        "        running_loss += loss.item()\n",
        "        \n",
        "        if i % print_every == 0:\n",
        "            print(f\"\\tIteration: {i}\\t Loss: {running_loss/print_every:.4f}\")\n",
        "            running_loss = 0\n",
        "        \n",
        "\n",
        "    # model.eval()\n",
        "    # with torch.no_grad():\n",
        "    #     for i, (images, labels) in enumerate(iter(testloader)):\n",
        "    #         images.resize_(images.size()[0], 1,28,28)\n",
        "    #         outputs = model(images)\n",
        "    #         _, predicted = torch.max(outputs.data, 1)\n",
        "    #         total += labels.size(0)\n",
        "    #         correct += (predicted == labels).sum().item()\n",
        "\n",
        "    # print('Accuracy of the network: %d %%' % (\n",
        "    #     100 * correct / total))"
      ],
      "metadata": {
        "colab": {
          "base_uri": "https://localhost:8080/"
        },
        "id": "blmaYqxcY3Pm",
        "outputId": "618a98e5-9c8f-415b-e392-4269d6e5bb8b"
      },
      "execution_count": 18,
      "outputs": [
        {
          "output_type": "stream",
          "name": "stdout",
          "text": [
            "Epoch: 1/5\n",
            "\tIteration: 0\t Loss: 0.0465\n",
            "\tIteration: 50\t Loss: 1.9961\n",
            "\tIteration: 100\t Loss: 0.7162\n",
            "\tIteration: 150\t Loss: 0.2701\n",
            "\tIteration: 200\t Loss: 0.2158\n",
            "\tIteration: 250\t Loss: 0.1569\n",
            "\tIteration: 300\t Loss: 0.1435\n",
            "\tIteration: 350\t Loss: 0.1444\n",
            "\tIteration: 400\t Loss: 0.1090\n",
            "\tIteration: 450\t Loss: 0.1015\n",
            "\tIteration: 500\t Loss: 0.0938\n",
            "\tIteration: 550\t Loss: 0.1052\n",
            "\tIteration: 600\t Loss: 0.0877\n",
            "\tIteration: 650\t Loss: 0.0874\n",
            "\tIteration: 700\t Loss: 0.0915\n",
            "\tIteration: 750\t Loss: 0.0672\n",
            "\tIteration: 800\t Loss: 0.0675\n",
            "\tIteration: 850\t Loss: 0.0795\n",
            "\tIteration: 900\t Loss: 0.0653\n",
            "Epoch: 2/5\n",
            "\tIteration: 0\t Loss: 0.0001\n",
            "\tIteration: 50\t Loss: 0.0687\n",
            "\tIteration: 100\t Loss: 0.0700\n",
            "\tIteration: 150\t Loss: 0.0541\n",
            "\tIteration: 200\t Loss: 0.0630\n",
            "\tIteration: 250\t Loss: 0.0654\n",
            "\tIteration: 300\t Loss: 0.0442\n",
            "\tIteration: 350\t Loss: 0.0473\n",
            "\tIteration: 400\t Loss: 0.0549\n",
            "\tIteration: 450\t Loss: 0.0566\n",
            "\tIteration: 500\t Loss: 0.0553\n",
            "\tIteration: 550\t Loss: 0.0556\n",
            "\tIteration: 600\t Loss: 0.0392\n",
            "\tIteration: 650\t Loss: 0.0399\n",
            "\tIteration: 700\t Loss: 0.0440\n",
            "\tIteration: 750\t Loss: 0.0456\n",
            "\tIteration: 800\t Loss: 0.0486\n",
            "\tIteration: 850\t Loss: 0.0353\n",
            "\tIteration: 900\t Loss: 0.0490\n",
            "Epoch: 3/5\n",
            "\tIteration: 0\t Loss: 0.0003\n",
            "\tIteration: 50\t Loss: 0.0258\n",
            "\tIteration: 100\t Loss: 0.0475\n",
            "\tIteration: 150\t Loss: 0.0423\n",
            "\tIteration: 200\t Loss: 0.0347\n",
            "\tIteration: 250\t Loss: 0.0423\n",
            "\tIteration: 300\t Loss: 0.0296\n",
            "\tIteration: 350\t Loss: 0.0342\n",
            "\tIteration: 400\t Loss: 0.0319\n",
            "\tIteration: 450\t Loss: 0.0532\n",
            "\tIteration: 500\t Loss: 0.0332\n",
            "\tIteration: 550\t Loss: 0.0260\n",
            "\tIteration: 600\t Loss: 0.0349\n",
            "\tIteration: 650\t Loss: 0.0401\n",
            "\tIteration: 700\t Loss: 0.0365\n",
            "\tIteration: 750\t Loss: 0.0343\n",
            "\tIteration: 800\t Loss: 0.0330\n",
            "\tIteration: 850\t Loss: 0.0309\n",
            "\tIteration: 900\t Loss: 0.0379\n",
            "Epoch: 4/5\n",
            "\tIteration: 0\t Loss: 0.0028\n",
            "\tIteration: 50\t Loss: 0.0275\n",
            "\tIteration: 100\t Loss: 0.0258\n",
            "\tIteration: 150\t Loss: 0.0280\n",
            "\tIteration: 200\t Loss: 0.0291\n",
            "\tIteration: 250\t Loss: 0.0264\n",
            "\tIteration: 300\t Loss: 0.0293\n",
            "\tIteration: 350\t Loss: 0.0217\n",
            "\tIteration: 400\t Loss: 0.0283\n",
            "\tIteration: 450\t Loss: 0.0216\n",
            "\tIteration: 500\t Loss: 0.0372\n",
            "\tIteration: 550\t Loss: 0.0296\n",
            "\tIteration: 600\t Loss: 0.0232\n",
            "\tIteration: 650\t Loss: 0.0258\n",
            "\tIteration: 700\t Loss: 0.0208\n",
            "\tIteration: 750\t Loss: 0.0199\n",
            "\tIteration: 800\t Loss: 0.0218\n",
            "\tIteration: 850\t Loss: 0.0266\n",
            "\tIteration: 900\t Loss: 0.0262\n",
            "Epoch: 5/5\n",
            "\tIteration: 0\t Loss: 0.0000\n",
            "\tIteration: 50\t Loss: 0.0176\n",
            "\tIteration: 100\t Loss: 0.0227\n",
            "\tIteration: 150\t Loss: 0.0213\n",
            "\tIteration: 200\t Loss: 0.0263\n",
            "\tIteration: 250\t Loss: 0.0208\n",
            "\tIteration: 300\t Loss: 0.0132\n",
            "\tIteration: 350\t Loss: 0.0121\n",
            "\tIteration: 400\t Loss: 0.0169\n",
            "\tIteration: 450\t Loss: 0.0187\n",
            "\tIteration: 500\t Loss: 0.0220\n",
            "\tIteration: 550\t Loss: 0.0242\n",
            "\tIteration: 600\t Loss: 0.0194\n",
            "\tIteration: 650\t Loss: 0.0204\n",
            "\tIteration: 700\t Loss: 0.0176\n",
            "\tIteration: 750\t Loss: 0.0157\n",
            "\tIteration: 800\t Loss: 0.0198\n",
            "\tIteration: 850\t Loss: 0.0266\n",
            "\tIteration: 900\t Loss: 0.0314\n"
          ]
        }
      ]
    },
    {
      "cell_type": "code",
      "metadata": {
        "id": "noFnNL3drLdG"
      },
      "source": [
        "def view_classify(img, ps):\n",
        "\n",
        "    ps = ps.data.numpy().squeeze()\n",
        "\n",
        "    fig, (ax1, ax2) = plt.subplots(figsize=(6,9), ncols=2)\n",
        "    ax1.imshow(img.resize_(1, 28, 28).numpy().squeeze())\n",
        "    ax1.axis('off')\n",
        "    ax2.barh(np.arange(10), ps)\n",
        "    ax2.set_aspect(0.1)\n",
        "    ax2.set_yticks(np.arange(10))\n",
        "    ax2.set_yticklabels(np.arange(10))\n",
        "    ax2.set_title('Class Probability')\n",
        "    ax2.set_xlim(0, 1.1)"
      ],
      "execution_count": 19,
      "outputs": []
    },
    {
      "cell_type": "code",
      "metadata": {
        "colab": {
          "base_uri": "https://localhost:8080/",
          "height": 213
        },
        "id": "KjF3J1MMqs61",
        "outputId": "2ce6259b-cde0-4bf4-84ba-65c1f839ae7c"
      },
      "source": [
        "images, labels = next(iter(trainloader))\n",
        "\n",
        "img = images.resize_(images.shape[0],1, 28,28)\n",
        "# Turn off gradients to speed up this part\n",
        "with torch.no_grad():\n",
        "    logits = modell.forward(img)\n",
        "\n",
        "# Output of the network are logits, need to take softmax for probabilities\n",
        "ps = F.softmax(logits, dim=1)\n",
        "ps[0,:].shape\n",
        "img[0].view(1, 28, 28).shape\n",
        "\n",
        "view_classify(img[0].view(1, 28, 28), ps[0])"
      ],
      "execution_count": 21,
      "outputs": [
        {
          "output_type": "display_data",
          "data": {
            "text/plain": [
              "<Figure size 432x648 with 2 Axes>"
            ],
            "image/png": "[encoded data removed]"
          },
          "metadata": {
            "needs_background": "light"
          }
        }
      ]
    },
    {
      "cell_type": "code",
      "source": [
        "def mnist(img):\n",
        "    img1 = img.copy()\n",
        "    #_, img = cv2.threshold(img, 150, 255, cv2.THRESH_TRUNC)\n",
        "    img1 = cv2.bitwise_not(img1)\n",
        "    \n",
        "    kernel = np.ones((7,7), np.uint8)\n",
        "    img1  = cv2.cvtColor(img1,cv2.COLOR_BGR2RGB)\n",
        "    img1  = cv2.cvtColor(img1,cv2.COLOR_RGB2GRAY)\n",
        "    img1 = cv2.dilate(img1, kernel) # two thicken the hand writing\n",
        "    #closing = cv2.morphologyEx(img,cv2.MORPH_CLOSE,kernel,)\n",
        "    #_, img = cv2.threshold(img, 127, 255, cv2.THRESH_BINARY)\n",
        "    \n",
        "    #img = cv2.GaussianBlur(img, (5,5),0) # no need it i guess\n",
        "    closing = cv2.morphologyEx(img1,cv2.MORPH_CLOSE,kernel,)\n",
        "    resized = cv2.resize(closing, (28, 28), interpolation = cv2.INTER_AREA) # the size of mnist is 28x28\n",
        "    \n",
        "    return resized"
      ],
      "metadata": {
        "id": "y5WLmhKqkef1"
      },
      "execution_count": 33,
      "outputs": []
    },
    {
      "cell_type": "code",
      "metadata": {
        "id": "o7UyaX7xDH3A"
      },
      "source": [
        "three_mnist= mnist(three)"
      ],
      "execution_count": 34,
      "outputs": []
    },
    {
      "cell_type": "code",
      "metadata": {
        "id": "cbFbdLF1CmaN"
      },
      "source": [
        "def to_tensor(arr: np.ndarray):\n",
        "    tens = torch.from_numpy(arr).float()\n",
        "    tensorr = F.normalize(tens)\n",
        "    tensorr = tensorr.reshape(1,28*28)\n",
        "    # images.resize_(images.shape[0],1, 28,28)\n",
        "   \n",
        "    return tensorr"
      ],
      "execution_count": 26,
      "outputs": []
    },
    {
      "cell_type": "code",
      "metadata": {
        "id": "egha4G6UCrCt"
      },
      "source": [
        "three_mnist = to_tensor(three_mnist)"
      ],
      "execution_count": 35,
      "outputs": []
    },
    {
      "cell_type": "code",
      "metadata": {
        "id": "MimS60zqCtjx",
        "colab": {
          "base_uri": "https://localhost:8080/"
        },
        "outputId": "bf0c2cff-efe1-491e-bbf0-e2eb1dca4b50"
      },
      "source": [
        "y = three_mnist.resize_(three_mnist.shape[0],1, 28,28)\n",
        "\n",
        "ps = F.softmax(modell.forward(y),dim=1)\n",
        "ps[0,:].shape"
      ],
      "execution_count": 36,
      "outputs": [
        {
          "output_type": "execute_result",
          "data": {
            "text/plain": [
              "torch.Size([10])"
            ]
          },
          "metadata": {},
          "execution_count": 36
        }
      ]
    },
    {
      "cell_type": "code",
      "metadata": {
        "colab": {
          "base_uri": "https://localhost:8080/",
          "height": 213
        },
        "id": "tT32V_AQCmet",
        "outputId": "5ddeb413-8b33-484c-f78a-e0ff9cc16315"
      },
      "source": [
        "view_classify(y[0].view(1, 28, 28), ps[0])\n"
      ],
      "execution_count": 37,
      "outputs": [
        {
          "output_type": "display_data",
          "data": {
            "text/plain": [
              "<Figure size 432x648 with 2 Axes>"
            ],
            "image/png": "[encoded data removed]"
          },
          "metadata": {
            "needs_background": "light"
          }
        }
      ]
    },
    {
      "cell_type": "code",
      "metadata": {
        "colab": {
          "base_uri": "https://localhost:8080/"
        },
        "id": "BNGCmPPbCmln",
        "outputId": "6efa1b83-d5b0-4fcb-d6c5-a729a7764a9d"
      },
      "source": [
        "torch.argmax(ps).item()"
      ],
      "execution_count": 38,
      "outputs": [
        {
          "output_type": "execute_result",
          "data": {
            "text/plain": [
              "3"
            ]
          },
          "metadata": {},
          "execution_count": 38
        }
      ]
    },
    {
      "cell_type": "code",
      "source": [
        "#Nice Try Body!"
      ],
      "metadata": {
        "id": "mEG1aR94lXh_"
      },
      "execution_count": null,
      "outputs": []
    }
  ]
}